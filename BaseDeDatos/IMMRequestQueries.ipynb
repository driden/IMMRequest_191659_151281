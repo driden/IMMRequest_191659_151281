{
    "metadata": {
        "kernelspec": {
            "name": "SQL",
            "display_name": "SQL",
            "language": "sql"
        },
        "language_info": {
            "name": "sql",
            "version": ""
        }
    },
    "nbformat_minor": 2,
    "nbformat": 4,
    "cells": [
        {
            "cell_type": "code",
            "source": [
                "SELECT * FROM IMMRequest.dbo.Areas"
            ],
            "metadata": {
                "azdata_cell_guid": "675a282d-2f68-4f36-8bd8-62f475dc11e9"
            },
            "outputs": [
                {
                    "output_type": "display_data",
                    "data": {
                        "text/html": "(4 rows affected)"
                    },
                    "metadata": {}
                },
                {
                    "output_type": "display_data",
                    "data": {
                        "text/html": "Total execution time: 00:00:00.012"
                    },
                    "metadata": {}
                },
                {
                    "output_type": "execute_result",
                    "metadata": {},
                    "execution_count": 19,
                    "data": {
                        "application/vnd.dataresource+json": {
                            "schema": {
                                "fields": [
                                    {
                                        "name": "Id"
                                    },
                                    {
                                        "name": "Name"
                                    }
                                ]
                            },
                            "data": [
                                {
                                    "0": "1",
                                    "1": "Transporte"
                                },
                                {
                                    "0": "2",
                                    "1": "Espacios publicos y calles"
                                },
                                {
                                    "0": "3",
                                    "1": "Limpieza"
                                },
                                {
                                    "0": "4",
                                    "1": "Saneamiento"
                                }
                            ]
                        },
                        "text/html": [
                            "<table>",
                            "<tr><th>Id</th><th>Name</th></tr>",
                            "<tr><td>1</td><td>Transporte</td></tr>",
                            "<tr><td>2</td><td>Espacios publicos y calles</td></tr>",
                            "<tr><td>3</td><td>Limpieza</td></tr>",
                            "<tr><td>4</td><td>Saneamiento</td></tr>",
                            "</table>"
                        ]
                    }
                }
            ],
            "execution_count": 19
        },
        {
            "cell_type": "code",
            "source": [
                "SELECT * FROM IMMRequest.dbo.Topics"
            ],
            "metadata": {
                "azdata_cell_guid": "8c277d6c-7af0-408a-80eb-e81ef98dd6fb"
            },
            "outputs": [
                {
                    "output_type": "display_data",
                    "data": {
                        "text/html": "(1 row affected)"
                    },
                    "metadata": {}
                },
                {
                    "output_type": "display_data",
                    "data": {
                        "text/html": "Total execution time: 00:00:00.008"
                    },
                    "metadata": {}
                },
                {
                    "output_type": "execute_result",
                    "metadata": {},
                    "execution_count": 20,
                    "data": {
                        "application/vnd.dataresource+json": {
                            "schema": {
                                "fields": [
                                    {
                                        "name": "Id"
                                    },
                                    {
                                        "name": "AreaId"
                                    },
                                    {
                                        "name": "Name"
                                    }
                                ]
                            },
                            "data": [
                                {
                                    "0": "1",
                                    "1": "1",
                                    "2": "Acoso Sexual"
                                }
                            ]
                        },
                        "text/html": [
                            "<table>",
                            "<tr><th>Id</th><th>AreaId</th><th>Name</th></tr>",
                            "<tr><td>1</td><td>1</td><td>Acoso Sexual</td></tr>",
                            "</table>"
                        ]
                    }
                }
            ],
            "execution_count": 20
        },
        {
            "cell_type": "code",
            "source": [
                "SELECT * FROM IMMRequest.dbo.Types"
            ],
            "metadata": {
                "azdata_cell_guid": "8e1cf0c5-edb5-4539-8d53-c970d4efc53b"
            },
            "outputs": [
                {
                    "output_type": "display_data",
                    "data": {
                        "text/html": "(1 row affected)"
                    },
                    "metadata": {}
                },
                {
                    "output_type": "display_data",
                    "data": {
                        "text/html": "Total execution time: 00:00:00.006"
                    },
                    "metadata": {}
                },
                {
                    "output_type": "execute_result",
                    "metadata": {},
                    "execution_count": 21,
                    "data": {
                        "application/vnd.dataresource+json": {
                            "schema": {
                                "fields": [
                                    {
                                        "name": "Id"
                                    },
                                    {
                                        "name": "TopicId"
                                    },
                                    {
                                        "name": "Name"
                                    },
                                    {
                                        "name": "IsActive"
                                    }
                                ]
                            },
                            "data": [
                                {
                                    "0": "1",
                                    "1": "1",
                                    "2": "Taxi - Acoso",
                                    "3": "1"
                                }
                            ]
                        },
                        "text/html": [
                            "<table>",
                            "<tr><th>Id</th><th>TopicId</th><th>Name</th><th>IsActive</th></tr>",
                            "<tr><td>1</td><td>1</td><td>Taxi - Acoso</td><td>1</td></tr>",
                            "</table>"
                        ]
                    }
                }
            ],
            "execution_count": 21
        },
        {
            "cell_type": "code",
            "source": [
                "SELECT * FROM IMMRequest.dbo.AdditionalField"
            ],
            "metadata": {
                "azdata_cell_guid": "e91521bd-44c5-4f63-8a72-beceea172b98"
            },
            "outputs": [
                {
                    "output_type": "display_data",
                    "data": {
                        "text/html": "(3 rows affected)"
                    },
                    "metadata": {}
                },
                {
                    "output_type": "display_data",
                    "data": {
                        "text/html": "Total execution time: 00:00:00.007"
                    },
                    "metadata": {}
                },
                {
                    "output_type": "execute_result",
                    "metadata": {},
                    "execution_count": 22,
                    "data": {
                        "application/vnd.dataresource+json": {
                            "schema": {
                                "fields": [
                                    {
                                        "name": "Id"
                                    },
                                    {
                                        "name": "Name"
                                    },
                                    {
                                        "name": "FieldType"
                                    },
                                    {
                                        "name": "IsRequired"
                                    },
                                    {
                                        "name": "TypeId"
                                    },
                                    {
                                        "name": "Discriminator"
                                    }
                                ]
                            },
                            "data": [
                                {
                                    "0": "1",
                                    "1": "Matricula",
                                    "2": "1",
                                    "3": "0",
                                    "4": "1",
                                    "5": "TextField"
                                },
                                {
                                    "0": "2",
                                    "1": "Fecha y hora",
                                    "2": "2",
                                    "3": "0",
                                    "4": "1",
                                    "5": "DateField"
                                },
                                {
                                    "0": "3",
                                    "1": "Nro de Movil",
                                    "2": "0",
                                    "3": "1",
                                    "4": "1",
                                    "5": "IntegerField"
                                }
                            ]
                        },
                        "text/html": [
                            "<table>",
                            "<tr><th>Id</th><th>Name</th><th>FieldType</th><th>IsRequired</th><th>TypeId</th><th>Discriminator</th></tr>",
                            "<tr><td>1</td><td>Matricula</td><td>1</td><td>0</td><td>1</td><td>TextField</td></tr>",
                            "<tr><td>2</td><td>Fecha y hora</td><td>2</td><td>0</td><td>1</td><td>DateField</td></tr>",
                            "<tr><td>3</td><td>Nro de Movil</td><td>0</td><td>1</td><td>1</td><td>IntegerField</td></tr>",
                            "</table>"
                        ]
                    }
                }
            ],
            "execution_count": 22
        },
        {
            "cell_type": "code",
            "source": [
                "SELECT * FROM IMMRequest.dbo.DateRangeItems"
            ],
            "metadata": {
                "azdata_cell_guid": "75a35484-b456-4c65-90fa-5095a854d7ac"
            },
            "outputs": [
                {
                    "output_type": "display_data",
                    "data": {
                        "text/html": "(2 rows affected)"
                    },
                    "metadata": {}
                },
                {
                    "output_type": "display_data",
                    "data": {
                        "text/html": "Total execution time: 00:00:00.009"
                    },
                    "metadata": {}
                },
                {
                    "output_type": "execute_result",
                    "metadata": {},
                    "execution_count": 23,
                    "data": {
                        "application/vnd.dataresource+json": {
                            "schema": {
                                "fields": [
                                    {
                                        "name": "Id"
                                    },
                                    {
                                        "name": "Value"
                                    },
                                    {
                                        "name": "DateFieldId"
                                    }
                                ]
                            },
                            "data": [
                                {
                                    "0": "1",
                                    "1": "2010-06-20 00:00:00.0000000",
                                    "2": "2"
                                },
                                {
                                    "0": "2",
                                    "1": "2030-06-20 00:00:00.0000000",
                                    "2": "2"
                                }
                            ]
                        },
                        "text/html": [
                            "<table>",
                            "<tr><th>Id</th><th>Value</th><th>DateFieldId</th></tr>",
                            "<tr><td>1</td><td>2010-06-20 00:00:00.0000000</td><td>2</td></tr>",
                            "<tr><td>2</td><td>2030-06-20 00:00:00.0000000</td><td>2</td></tr>",
                            "</table>"
                        ]
                    }
                }
            ],
            "execution_count": 23
        },
        {
            "cell_type": "code",
            "source": [
                "SELECT * FROM IMMRequest.dbo.IntegerRangeItems"
            ],
            "metadata": {
                "azdata_cell_guid": "f796a1f3-1d92-485c-992c-e45605e280ce"
            },
            "outputs": [
                {
                    "output_type": "display_data",
                    "data": {
                        "text/html": "(2 rows affected)"
                    },
                    "metadata": {}
                },
                {
                    "output_type": "display_data",
                    "data": {
                        "text/html": "Total execution time: 00:00:00.008"
                    },
                    "metadata": {}
                },
                {
                    "output_type": "execute_result",
                    "metadata": {},
                    "execution_count": 24,
                    "data": {
                        "application/vnd.dataresource+json": {
                            "schema": {
                                "fields": [
                                    {
                                        "name": "Id"
                                    },
                                    {
                                        "name": "Value"
                                    },
                                    {
                                        "name": "IntegerFieldId"
                                    }
                                ]
                            },
                            "data": [
                                {
                                    "0": "1",
                                    "1": "0",
                                    "2": "3"
                                },
                                {
                                    "0": "2",
                                    "1": "99999999",
                                    "2": "3"
                                }
                            ]
                        },
                        "text/html": [
                            "<table>",
                            "<tr><th>Id</th><th>Value</th><th>IntegerFieldId</th></tr>",
                            "<tr><td>1</td><td>0</td><td>3</td></tr>",
                            "<tr><td>2</td><td>99999999</td><td>3</td></tr>",
                            "</table>"
                        ]
                    }
                }
            ],
            "execution_count": 24
        },
        {
            "cell_type": "code",
            "source": [
                "SELECT * FROM IMMRequest.dbo.TextRangeItems"
            ],
            "metadata": {
                "azdata_cell_guid": "58209c34-4ed5-46fa-a886-25facb9a0826"
            },
            "outputs": [
                {
                    "output_type": "display_data",
                    "data": {
                        "text/html": "(0 rows affected)"
                    },
                    "metadata": {}
                },
                {
                    "output_type": "display_data",
                    "data": {
                        "text/html": "Total execution time: 00:00:00.004"
                    },
                    "metadata": {}
                },
                {
                    "output_type": "execute_result",
                    "metadata": {},
                    "execution_count": 25,
                    "data": {
                        "application/vnd.dataresource+json": {
                            "schema": {
                                "fields": [
                                    {
                                        "name": "Id"
                                    },
                                    {
                                        "name": "Value"
                                    },
                                    {
                                        "name": "TextFieldId"
                                    }
                                ]
                            },
                            "data": []
                        },
                        "text/html": [
                            "<table>",
                            "<tr><th>Id</th><th>Value</th><th>TextFieldId</th></tr>",
                            "</table>"
                        ]
                    }
                }
            ],
            "execution_count": 25
        },
        {
            "cell_type": "code",
            "source": [
                ""
            ],
            "metadata": {
                "azdata_cell_guid": "d102d261-fd54-46f0-80f8-ab127c0238cb"
            },
            "outputs": [
                {
                    "output_type": "display_data",
                    "data": {
                        "text/html": "Commands completed successfully."
                    },
                    "metadata": {}
                },
                {
                    "output_type": "display_data",
                    "data": {
                        "text/html": "Total execution time: 00:00:00"
                    },
                    "metadata": {}
                }
            ],
            "execution_count": 26
        },
        {
            "cell_type": "code",
            "source": [
                "SELECT * FROM IMMRequest.dbo.[User]"
            ],
            "metadata": {
                "azdata_cell_guid": "0ea298b2-62c2-468d-a47d-a0125dcdaaeb"
            },
            "outputs": [
                {
                    "output_type": "display_data",
                    "data": {
                        "text/html": "(2 rows affected)"
                    },
                    "metadata": {}
                },
                {
                    "output_type": "display_data",
                    "data": {
                        "text/html": "Total execution time: 00:00:00.015"
                    },
                    "metadata": {}
                },
                {
                    "output_type": "execute_result",
                    "metadata": {},
                    "execution_count": 27,
                    "data": {
                        "application/vnd.dataresource+json": {
                            "schema": {
                                "fields": [
                                    {
                                        "name": "Id"
                                    },
                                    {
                                        "name": "Name"
                                    },
                                    {
                                        "name": "Email"
                                    },
                                    {
                                        "name": "PhoneNumber"
                                    },
                                    {
                                        "name": "Discriminator"
                                    },
                                    {
                                        "name": "Password"
                                    },
                                    {
                                        "name": "Token"
                                    }
                                ]
                            },
                            "data": [
                                {
                                    "0": "1",
                                    "1": "Admin Foo",
                                    "2": "admin@foo.com",
                                    "3": "NULL",
                                    "4": "Admin",
                                    "5": "pass",
                                    "6": "fa52caba-48ba-488a-aa36-743a37c08706"
                                },
                                {
                                    "0": "2",
                                    "1": "citizens name",
                                    "2": "email3@citizen.com",
                                    "3": "5555-555-555",
                                    "4": "Citizen",
                                    "5": "NULL",
                                    "6": "NULL"
                                }
                            ]
                        },
                        "text/html": [
                            "<table>",
                            "<tr><th>Id</th><th>Name</th><th>Email</th><th>PhoneNumber</th><th>Discriminator</th><th>Password</th><th>Token</th></tr>",
                            "<tr><td>1</td><td>Admin Foo</td><td>admin@foo.com</td><td>NULL</td><td>Admin</td><td>pass</td><td>fa52caba-48ba-488a-aa36-743a37c08706</td></tr>",
                            "<tr><td>2</td><td>citizens name</td><td>email3@citizen.com</td><td>5555-555-555</td><td>Citizen</td><td>NULL</td><td>NULL</td></tr>",
                            "</table>"
                        ]
                    }
                }
            ],
            "execution_count": 27
        },
        {
            "cell_type": "code",
            "source": [
                "SELECT * FROM IMMRequest.dbo.Requests"
            ],
            "metadata": {
                "azdata_cell_guid": "c4d6e5ec-09ae-4d2b-8f24-68fbf61572bd"
            },
            "outputs": [
                {
                    "output_type": "display_data",
                    "data": {
                        "text/html": "(1 row affected)"
                    },
                    "metadata": {}
                },
                {
                    "output_type": "display_data",
                    "data": {
                        "text/html": "Total execution time: 00:00:00.015"
                    },
                    "metadata": {}
                },
                {
                    "output_type": "execute_result",
                    "metadata": {},
                    "execution_count": 28,
                    "data": {
                        "application/vnd.dataresource+json": {
                            "schema": {
                                "fields": [
                                    {
                                        "name": "Id"
                                    },
                                    {
                                        "name": "CitizenId"
                                    },
                                    {
                                        "name": "TypeId"
                                    },
                                    {
                                        "name": "Details"
                                    },
                                    {
                                        "name": "CreationDateTime"
                                    }
                                ]
                            },
                            "data": [
                                {
                                    "0": "1",
                                    "1": "2",
                                    "2": "1",
                                    "3": "some details",
                                    "4": "2020-06-20 11:23:21.4809381"
                                }
                            ]
                        },
                        "text/html": [
                            "<table>",
                            "<tr><th>Id</th><th>CitizenId</th><th>TypeId</th><th>Details</th><th>CreationDateTime</th></tr>",
                            "<tr><td>1</td><td>2</td><td>1</td><td>some details</td><td>2020-06-20 11:23:21.4809381</td></tr>",
                            "</table>"
                        ]
                    }
                }
            ],
            "execution_count": 28
        },
        {
            "cell_type": "code",
            "source": [
                "SELECT * FROM IMMRequest.dbo.RequestField"
            ],
            "metadata": {
                "azdata_cell_guid": "03414075-01e4-4148-90d9-dacb89ff4059"
            },
            "outputs": [
                {
                    "output_type": "display_data",
                    "data": {
                        "text/html": "(2 rows affected)"
                    },
                    "metadata": {}
                },
                {
                    "output_type": "display_data",
                    "data": {
                        "text/html": "Total execution time: 00:00:00.019"
                    },
                    "metadata": {}
                },
                {
                    "output_type": "execute_result",
                    "metadata": {},
                    "execution_count": 29,
                    "data": {
                        "application/vnd.dataresource+json": {
                            "schema": {
                                "fields": [
                                    {
                                        "name": "Id"
                                    },
                                    {
                                        "name": "requestId"
                                    },
                                    {
                                        "name": "Name"
                                    },
                                    {
                                        "name": "Discriminator"
                                    },
                                    {
                                        "name": "Values"
                                    },
                                    {
                                        "name": "DateRequestField_Values"
                                    },
                                    {
                                        "name": "IntRequestField_Values"
                                    },
                                    {
                                        "name": "TextRequestField_Values"
                                    }
                                ]
                            },
                            "data": [
                                {
                                    "0": "1",
                                    "1": "1",
                                    "2": "Fecha y hora",
                                    "3": "DateRequestField",
                                    "4": "NULL",
                                    "5": "09-May-20 00:00:00;20-Jun-20 00:00:00",
                                    "6": "NULL",
                                    "7": "NULL"
                                },
                                {
                                    "0": "2",
                                    "1": "1",
                                    "2": "Nro de Movil",
                                    "3": "IntRequestField",
                                    "4": "NULL",
                                    "5": "NULL",
                                    "6": "111111;22222;33333;55555",
                                    "7": "NULL"
                                }
                            ]
                        },
                        "text/html": [
                            "<table>",
                            "<tr><th>Id</th><th>requestId</th><th>Name</th><th>Discriminator</th><th>Values</th><th>DateRequestField_Values</th><th>IntRequestField_Values</th><th>TextRequestField_Values</th></tr>",
                            "<tr><td>1</td><td>1</td><td>Fecha y hora</td><td>DateRequestField</td><td>NULL</td><td>09-May-20 00:00:00;20-Jun-20 00:00:00</td><td>NULL</td><td>NULL</td></tr>",
                            "<tr><td>2</td><td>1</td><td>Nro de Movil</td><td>IntRequestField</td><td>NULL</td><td>NULL</td><td>111111;22222;33333;55555</td><td>NULL</td></tr>",
                            "</table>"
                        ]
                    }
                }
            ],
            "execution_count": 29
        },
        {
            "cell_type": "code",
            "source": [
                "SELECT * FROM IMMRequest.dbo.[State]"
            ],
            "metadata": {
                "azdata_cell_guid": "6a4c2c9a-13ee-4b8a-87c0-67a2df7d9310"
            },
            "outputs": [
                {
                    "output_type": "display_data",
                    "data": {
                        "text/html": "(1 row affected)"
                    },
                    "metadata": {}
                },
                {
                    "output_type": "display_data",
                    "data": {
                        "text/html": "Total execution time: 00:00:00.013"
                    },
                    "metadata": {}
                },
                {
                    "output_type": "execute_result",
                    "metadata": {},
                    "execution_count": 30,
                    "data": {
                        "application/vnd.dataresource+json": {
                            "schema": {
                                "fields": [
                                    {
                                        "name": "Id"
                                    },
                                    {
                                        "name": "Description"
                                    },
                                    {
                                        "name": "Discriminator"
                                    },
                                    {
                                        "name": "RequestId"
                                    }
                                ]
                            },
                            "data": [
                                {
                                    "0": "1",
                                    "1": "Created",
                                    "2": "CreatedState",
                                    "3": "1"
                                }
                            ]
                        },
                        "text/html": [
                            "<table>",
                            "<tr><th>Id</th><th>Description</th><th>Discriminator</th><th>RequestId</th></tr>",
                            "<tr><td>1</td><td>Created</td><td>CreatedState</td><td>1</td></tr>",
                            "</table>"
                        ]
                    }
                }
            ],
            "execution_count": 30
        }
    ]
}