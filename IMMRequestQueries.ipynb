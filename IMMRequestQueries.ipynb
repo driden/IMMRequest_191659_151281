{
    "metadata": {
        "kernelspec": {
            "name": "SQL",
            "display_name": "SQL",
            "language": "sql"
        },
        "language_info": {
            "name": "sql",
            "version": ""
        }
    },
    "nbformat_minor": 2,
    "nbformat": 4,
    "cells": [
        {
            "cell_type": "code",
            "source": [
                "SELECT * FROM IMMRequest.dbo.Areas"
            ],
            "metadata": {
                "azdata_cell_guid": "675a282d-2f68-4f36-8bd8-62f475dc11e9"
            },
            "outputs": [
                {
                    "output_type": "display_data",
                    "data": {
                        "text/html": "(4 rows affected)"
                    },
                    "metadata": {}
                },
                {
                    "output_type": "display_data",
                    "data": {
                        "text/html": "Total execution time: 00:00:00.164"
                    },
                    "metadata": {}
                },
                {
                    "output_type": "execute_result",
                    "execution_count": 1,
                    "data": {
                        "application/vnd.dataresource+json": {
                            "schema": {
                                "fields": [
                                    {
                                        "name": "Id"
                                    },
                                    {
                                        "name": "Name"
                                    }
                                ]
                            },
                            "data": [
                                {
                                    "0": "1",
                                    "1": "Transporte"
                                },
                                {
                                    "0": "2",
                                    "1": "Espacios publicos y calles"
                                },
                                {
                                    "0": "3",
                                    "1": "Limpieza"
                                },
                                {
                                    "0": "4",
                                    "1": "Saneamiento"
                                }
                            ]
                        },
                        "text/html": "<table><tr><th>Id</th><th>Name</th></tr><tr><td>1</td><td>Transporte</td></tr><tr><td>2</td><td>Espacios publicos y calles</td></tr><tr><td>3</td><td>Limpieza</td></tr><tr><td>4</td><td>Saneamiento</td></tr></table>"
                    },
                    "metadata": {}
                }
            ],
            "execution_count": 1
        },
        {
            "cell_type": "code",
            "source": [
                "SELECT * FROM IMMRequest.dbo.Topics"
            ],
            "metadata": {
                "azdata_cell_guid": "8c277d6c-7af0-408a-80eb-e81ef98dd6fb"
            },
            "outputs": [
                {
                    "output_type": "display_data",
                    "data": {
                        "text/html": "(1 row affected)"
                    },
                    "metadata": {}
                },
                {
                    "output_type": "display_data",
                    "data": {
                        "text/html": "Total execution time: 00:00:00.028"
                    },
                    "metadata": {}
                },
                {
                    "output_type": "execute_result",
                    "execution_count": 2,
                    "data": {
                        "application/vnd.dataresource+json": {
                            "schema": {
                                "fields": [
                                    {
                                        "name": "Id"
                                    },
                                    {
                                        "name": "AreaId"
                                    },
                                    {
                                        "name": "Name"
                                    }
                                ]
                            },
                            "data": [
                                {
                                    "0": "1",
                                    "1": "1",
                                    "2": "Acoso Sexual"
                                }
                            ]
                        },
                        "text/html": "<table><tr><th>Id</th><th>AreaId</th><th>Name</th></tr><tr><td>1</td><td>1</td><td>Acoso Sexual</td></tr></table>"
                    },
                    "metadata": {}
                }
            ],
            "execution_count": 2
        },
        {
            "cell_type": "code",
            "source": [
                "SELECT * FROM IMMRequest.dbo.Types"
            ],
            "metadata": {
                "azdata_cell_guid": "8e1cf0c5-edb5-4539-8d53-c970d4efc53b"
            },
            "outputs": [
                {
                    "output_type": "display_data",
                    "data": {
                        "text/html": "(1 row affected)"
                    },
                    "metadata": {}
                },
                {
                    "output_type": "display_data",
                    "data": {
                        "text/html": "Total execution time: 00:00:00.690"
                    },
                    "metadata": {}
                },
                {
                    "output_type": "execute_result",
                    "execution_count": 3,
                    "data": {
                        "application/vnd.dataresource+json": {
                            "schema": {
                                "fields": [
                                    {
                                        "name": "Id"
                                    },
                                    {
                                        "name": "TopicId"
                                    },
                                    {
                                        "name": "Name"
                                    }
                                ]
                            },
                            "data": [
                                {
                                    "0": "1",
                                    "1": "1",
                                    "2": "Taxi - Acoso"
                                }
                            ]
                        },
                        "text/html": "<table><tr><th>Id</th><th>TopicId</th><th>Name</th></tr><tr><td>1</td><td>1</td><td>Taxi - Acoso</td></tr></table>"
                    },
                    "metadata": {}
                }
            ],
            "execution_count": 3
        },
        {
            "cell_type": "code",
            "source": [
                "SELECT * FROM IMMRequest.dbo.AdditionalField"
            ],
            "metadata": {
                "azdata_cell_guid": "e91521bd-44c5-4f63-8a72-beceea172b98"
            },
            "outputs": [
                {
                    "output_type": "display_data",
                    "data": {
                        "text/html": "(3 rows affected)"
                    },
                    "metadata": {}
                },
                {
                    "output_type": "display_data",
                    "data": {
                        "text/html": "Total execution time: 00:00:00.024"
                    },
                    "metadata": {}
                },
                {
                    "output_type": "execute_result",
                    "execution_count": 4,
                    "data": {
                        "application/vnd.dataresource+json": {
                            "schema": {
                                "fields": [
                                    {
                                        "name": "Id"
                                    },
                                    {
                                        "name": "Name"
                                    },
                                    {
                                        "name": "FieldType"
                                    },
                                    {
                                        "name": "IsRequired"
                                    },
                                    {
                                        "name": "TypeId"
                                    },
                                    {
                                        "name": "Discriminator"
                                    }
                                ]
                            },
                            "data": [
                                {
                                    "0": "1",
                                    "1": "Matricula",
                                    "2": "1",
                                    "3": "0",
                                    "4": "1",
                                    "5": "TextField"
                                },
                                {
                                    "0": "2",
                                    "1": "Fecha y hora",
                                    "2": "2",
                                    "3": "0",
                                    "4": "1",
                                    "5": "DateField"
                                },
                                {
                                    "0": "3",
                                    "1": "Nro de Movil",
                                    "2": "0",
                                    "3": "1",
                                    "4": "1",
                                    "5": "IntegerField"
                                }
                            ]
                        },
                        "text/html": "<table><tr><th>Id</th><th>Name</th><th>FieldType</th><th>IsRequired</th><th>TypeId</th><th>Discriminator</th></tr><tr><td>1</td><td>Matricula</td><td>1</td><td>0</td><td>1</td><td>TextField</td></tr><tr><td>2</td><td>Fecha y hora</td><td>2</td><td>0</td><td>1</td><td>DateField</td></tr><tr><td>3</td><td>Nro de Movil</td><td>0</td><td>1</td><td>1</td><td>IntegerField</td></tr></table>"
                    },
                    "metadata": {}
                }
            ],
            "execution_count": 4
        },
        {
            "cell_type": "code",
            "source": [
                "SELECT * FROM IMMRequest.dbo.DateRangeItems"
            ],
            "metadata": {
                "azdata_cell_guid": "75a35484-b456-4c65-90fa-5095a854d7ac"
            },
            "outputs": [
                {
                    "output_type": "execute_result",
                    "execution_count": 5,
                    "data": {
                        "application/vnd.dataresource+json": {
                            "schema": {
                                "fields": [
                                    {
                                        "name": "Id"
                                    },
                                    {
                                        "name": "Value"
                                    },
                                    {
                                        "name": "DateFieldId"
                                    }
                                ]
                            },
                            "data": []
                        },
                        "text/html": "<table><tr><th>Id</th><th>Value</th><th>DateFieldId</th></tr></table>"
                    },
                    "metadata": {}
                },
                {
                    "output_type": "display_data",
                    "data": {
                        "text/html": "(0 rows affected)"
                    },
                    "metadata": {}
                },
                {
                    "output_type": "display_data",
                    "data": {
                        "text/html": "Total execution time: 00:00:00.008"
                    },
                    "metadata": {}
                }
            ],
            "execution_count": 5
        },
        {
            "cell_type": "code",
            "source": [
                "SELECT * FROM IMMRequest.dbo.IntegerRangeItems"
            ],
            "metadata": {
                "azdata_cell_guid": "f796a1f3-1d92-485c-992c-e45605e280ce"
            },
            "outputs": [
                {
                    "output_type": "execute_result",
                    "execution_count": 6,
                    "data": {
                        "application/vnd.dataresource+json": {
                            "schema": {
                                "fields": [
                                    {
                                        "name": "Id"
                                    },
                                    {
                                        "name": "Value"
                                    },
                                    {
                                        "name": "IntegerFieldId"
                                    }
                                ]
                            },
                            "data": []
                        },
                        "text/html": "<table><tr><th>Id</th><th>Value</th><th>IntegerFieldId</th></tr></table>"
                    },
                    "metadata": {}
                },
                {
                    "output_type": "display_data",
                    "data": {
                        "text/html": "(0 rows affected)"
                    },
                    "metadata": {}
                },
                {
                    "output_type": "display_data",
                    "data": {
                        "text/html": "Total execution time: 00:00:00.029"
                    },
                    "metadata": {}
                }
            ],
            "execution_count": 6
        },
        {
            "cell_type": "code",
            "source": [
                "SELECT * FROM IMMRequest.dbo.TextRangeItems"
            ],
            "metadata": {
                "azdata_cell_guid": "58209c34-4ed5-46fa-a886-25facb9a0826"
            },
            "outputs": [
                {
                    "output_type": "execute_result",
                    "execution_count": 7,
                    "data": {
                        "application/vnd.dataresource+json": {
                            "schema": {
                                "fields": [
                                    {
                                        "name": "Id"
                                    },
                                    {
                                        "name": "Value"
                                    },
                                    {
                                        "name": "TextFieldId"
                                    }
                                ]
                            },
                            "data": []
                        },
                        "text/html": "<table><tr><th>Id</th><th>Value</th><th>TextFieldId</th></tr></table>"
                    },
                    "metadata": {}
                },
                {
                    "output_type": "display_data",
                    "data": {
                        "text/html": "(0 rows affected)"
                    },
                    "metadata": {}
                },
                {
                    "output_type": "display_data",
                    "data": {
                        "text/html": "Total execution time: 00:00:00.008"
                    },
                    "metadata": {}
                }
            ],
            "execution_count": 7
        },
        {
            "cell_type": "code",
            "source": [
                "SELECT * FROM IMMRequest.dbo.[User]"
            ],
            "metadata": {
                "azdata_cell_guid": "0ea298b2-62c2-468d-a47d-a0125dcdaaeb"
            },
            "outputs": [
                {
                    "output_type": "display_data",
                    "data": {
                        "text/html": "(2 rows affected)"
                    },
                    "metadata": {}
                },
                {
                    "output_type": "display_data",
                    "data": {
                        "text/html": "Total execution time: 00:00:00.011"
                    },
                    "metadata": {}
                },
                {
                    "output_type": "execute_result",
                    "metadata": {},
                    "execution_count": 7,
                    "data": {
                        "application/vnd.dataresource+json": {
                            "schema": {
                                "fields": [
                                    {
                                        "name": "Id"
                                    },
                                    {
                                        "name": "Name"
                                    },
                                    {
                                        "name": "Email"
                                    },
                                    {
                                        "name": "PhoneNumber"
                                    },
                                    {
                                        "name": "Discriminator"
                                    },
                                    {
                                        "name": "Password"
                                    }
                                ]
                            },
                            "data": [
                                {
                                    "0": "1",
                                    "1": "coronavirusman",
                                    "2": "corona@virus.com",
                                    "3": "(555)-55555",
                                    "4": "Citizen",
                                    "5": "NULL"
                                },
                                {
                                    "0": "2",
                                    "1": "coronavirusman2",
                                    "2": "corona2@virus.com",
                                    "3": "(555)-55555",
                                    "4": "Citizen",
                                    "5": "NULL"
                                }
                            ]
                        },
                        "text/html": "<table><tr><th>Id</th><th>Name</th><th>Email</th><th>PhoneNumber</th><th>Discriminator</th><th>Password</th></tr><tr><td>1</td><td>coronavirusman</td><td>corona@virus.com</td><td>(555)-55555</td><td>Citizen</td><td>NULL</td></tr><tr><td>2</td><td>coronavirusman2</td><td>corona2@virus.com</td><td>(555)-55555</td><td>Citizen</td><td>NULL</td></tr></table>"
                    }
                }
            ],
            "execution_count": 7
        },
        {
            "cell_type": "code",
            "source": [
                "SELECT * FROM IMMRequest.dbo.Requests"
            ],
            "metadata": {
                "azdata_cell_guid": "c4d6e5ec-09ae-4d2b-8f24-68fbf61572bd"
            },
            "outputs": [
                {
                    "output_type": "display_data",
                    "data": {
                        "text/html": "(1 row affected)"
                    },
                    "metadata": {}
                },
                {
                    "output_type": "display_data",
                    "data": {
                        "text/html": "Total execution time: 00:00:00.014"
                    },
                    "metadata": {}
                },
                {
                    "output_type": "execute_result",
                    "metadata": {},
                    "execution_count": 2,
                    "data": {
                        "application/vnd.dataresource+json": {
                            "schema": {
                                "fields": [
                                    {
                                        "name": "Id"
                                    },
                                    {
                                        "name": "CitizenId"
                                    },
                                    {
                                        "name": "TypeId"
                                    },
                                    {
                                        "name": "Details"
                                    }
                                ]
                            },
                            "data": [
                                {
                                    "0": "1",
                                    "1": "1",
                                    "2": "1",
                                    "3": "coronavirus"
                                }
                            ]
                        },
                        "text/html": "<table><tr><th>Id</th><th>CitizenId</th><th>TypeId</th><th>Details</th></tr><tr><td>1</td><td>1</td><td>1</td><td>coronavirus</td></tr></table>"
                    }
                }
            ],
            "execution_count": 2
        },
        {
            "cell_type": "code",
            "source": [
                "SELECT * FROM IMMRequest.dbo.RequestField"
            ],
            "metadata": {
                "azdata_cell_guid": "03414075-01e4-4148-90d9-dacb89ff4059"
            },
            "outputs": [
                {
                    "output_type": "display_data",
                    "data": {
                        "text/html": "(6 rows affected)"
                    },
                    "metadata": {}
                },
                {
                    "output_type": "display_data",
                    "data": {
                        "text/html": "Total execution time: 00:00:00.014"
                    },
                    "metadata": {}
                },
                {
                    "output_type": "execute_result",
                    "metadata": {},
                    "execution_count": 6,
                    "data": {
                        "application/vnd.dataresource+json": {
                            "schema": {
                                "fields": [
                                    {
                                        "name": "Id"
                                    },
                                    {
                                        "name": "requestId"
                                    },
                                    {
                                        "name": "Name"
                                    },
                                    {
                                        "name": "Value"
                                    },
                                    {
                                        "name": "IntRequestField_Value"
                                    },
                                    {
                                        "name": "Discriminator"
                                    },
                                    {
                                        "name": "TextRequestField_Value"
                                    }
                                ]
                            },
                            "data": [
                                {
                                    "0": "1",
                                    "1": "1",
                                    "2": "Matricula",
                                    "3": "NULL",
                                    "4": "NULL",
                                    "5": "TextRequestField",
                                    "6": "SAA4141"
                                },
                                {
                                    "0": "2",
                                    "1": "1",
                                    "2": "Fecha y hora",
                                    "3": "1981-11-01 00:00:00.0000000",
                                    "4": "NULL",
                                    "5": "DateRequestField",
                                    "6": "NULL"
                                },
                                {
                                    "0": "3",
                                    "1": "1",
                                    "2": "Nro de Movil",
                                    "3": "NULL",
                                    "4": "5556666",
                                    "5": "IntRequestField",
                                    "6": "NULL"
                                },
                                {
                                    "0": "4",
                                    "1": "2",
                                    "2": "Matricula",
                                    "3": "NULL",
                                    "4": "NULL",
                                    "5": "TextRequestField",
                                    "6": "SAA4141"
                                },
                                {
                                    "0": "5",
                                    "1": "2",
                                    "2": "Fecha y hora",
                                    "3": "1981-11-01 00:00:00.0000000",
                                    "4": "NULL",
                                    "5": "DateRequestField",
                                    "6": "NULL"
                                },
                                {
                                    "0": "6",
                                    "1": "2",
                                    "2": "Nro de Movil",
                                    "3": "NULL",
                                    "4": "5556666",
                                    "5": "IntRequestField",
                                    "6": "NULL"
                                }
                            ]
                        },
                        "text/html": "<table><tr><th>Id</th><th>requestId</th><th>Name</th><th>Value</th><th>IntRequestField_Value</th><th>Discriminator</th><th>TextRequestField_Value</th></tr><tr><td>1</td><td>1</td><td>Matricula</td><td>NULL</td><td>NULL</td><td>TextRequestField</td><td>SAA4141</td></tr><tr><td>2</td><td>1</td><td>Fecha y hora</td><td>1981-11-01 00:00:00.0000000</td><td>NULL</td><td>DateRequestField</td><td>NULL</td></tr><tr><td>3</td><td>1</td><td>Nro de Movil</td><td>NULL</td><td>5556666</td><td>IntRequestField</td><td>NULL</td></tr><tr><td>4</td><td>2</td><td>Matricula</td><td>NULL</td><td>NULL</td><td>TextRequestField</td><td>SAA4141</td></tr><tr><td>5</td><td>2</td><td>Fecha y hora</td><td>1981-11-01 00:00:00.0000000</td><td>NULL</td><td>DateRequestField</td><td>NULL</td></tr><tr><td>6</td><td>2</td><td>Nro de Movil</td><td>NULL</td><td>5556666</td><td>IntRequestField</td><td>NULL</td></tr></table>"
                    }
                }
            ],
            "execution_count": 6
        },
        {
            "cell_type": "code",
            "source": [
                "SELECT * FROM IMMRequest.dbo.[State]"
            ],
            "metadata": {
                "azdata_cell_guid": "6a4c2c9a-13ee-4b8a-87c0-67a2df7d9310"
            },
            "outputs": [
                {
                    "output_type": "display_data",
                    "data": {
                        "text/html": "(2 rows affected)"
                    },
                    "metadata": {}
                },
                {
                    "output_type": "display_data",
                    "data": {
                        "text/html": "Total execution time: 00:00:00.018"
                    },
                    "metadata": {}
                },
                {
                    "output_type": "execute_result",
                    "metadata": {},
                    "execution_count": 5,
                    "data": {
                        "application/vnd.dataresource+json": {
                            "schema": {
                                "fields": [
                                    {
                                        "name": "Id"
                                    },
                                    {
                                        "name": "Description"
                                    },
                                    {
                                        "name": "Discriminator"
                                    },
                                    {
                                        "name": "requestId"
                                    }
                                ]
                            },
                            "data": [
                                {
                                    "0": "1",
                                    "1": "This request has been created",
                                    "2": "CreatedState",
                                    "3": "1"
                                },
                                {
                                    "0": "2",
                                    "1": "This request has been created",
                                    "2": "CreatedState",
                                    "3": "2"
                                }
                            ]
                        },
                        "text/html": "<table><tr><th>Id</th><th>Description</th><th>Discriminator</th><th>requestId</th></tr><tr><td>1</td><td>This request has been created</td><td>CreatedState</td><td>1</td></tr><tr><td>2</td><td>This request has been created</td><td>CreatedState</td><td>2</td></tr></table>"
                    }
                }
            ],
            "execution_count": 5
        }
    ]
}